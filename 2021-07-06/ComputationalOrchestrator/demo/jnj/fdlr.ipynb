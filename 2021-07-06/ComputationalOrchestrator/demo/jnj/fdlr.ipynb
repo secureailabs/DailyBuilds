{
 "cells": [
  {
   "cell_type": "code",
   "execution_count": 1,
   "id": "occasional-turtle",
   "metadata": {},
   "outputs": [],
   "source": [
    "from sail.data import DataFrameGroup\n",
    "from sail.algo import Fdlr\n",
    "from sail.core import spawnvms, connect\n",
    "import optuna"
   ]
  },
  {
   "cell_type": "code",
   "execution_count": 2,
   "id": "detected-charlotte",
   "metadata": {},
   "outputs": [],
   "source": [
    "# show two data servers (vms) and an aggregation server (vmagg)\n",
    "vm1 = connect(\"40.123.36.17\", 7000, \"lbart@igr.com\", \"sailpassword\")\n",
    "vm2 = connect(\"40.79.28.204\", 7000, \"lbart@igr.com\", \"sailpassword\")\n",
    "vmagg = connect(\"40.123.32.18\", 7000, \"lbart@igr.com\", \"sailpassword\")\n",
    "vms = [vm1, vm2]"
   ]
  },
  {
   "cell_type": "code",
   "execution_count": 3,
   "id": "beginning-study",
   "metadata": {},
   "outputs": [
    {
     "data": {
      "text/plain": [
       "['275EC2D9E5EC4074B4F84FE3FBE810C7', '0E1DF8D0D80245C1B777AFDF359E68B9']"
      ]
     },
     "execution_count": 3,
     "metadata": {},
     "output_type": "execute_result"
    }
   ],
   "source": [
    "# vm will be represented by a VM identifier, which will be used for future computations\n",
    "vms"
   ]
  },
  {
   "cell_type": "code",
   "execution_count": 4,
   "id": "employed-earth",
   "metadata": {},
   "outputs": [],
   "source": [
    "# workplace is a local place in the file system to store temporary files, \n",
    "# which includes some parameters users input for model training\n",
    "workplace = \"/home/jjj/playground/tmp\""
   ]
  },
  {
   "cell_type": "code",
   "execution_count": 5,
   "id": "expensive-eligibility",
   "metadata": {},
   "outputs": [],
   "source": [
    "#DataFrameGroup is the collection of all dataset distributed among the VMs.\n",
    "dfg = DataFrameGroup(vms, workplace)\n",
    "#The import_data function takes in the data IDs and import the data from the data connector\n",
    "dfg.import_data([0,0])"
   ]
  },
  {
   "cell_type": "code",
   "execution_count": 6,
   "id": "corporate-slide",
   "metadata": {},
   "outputs": [
    {
     "data": {
      "text/plain": [
       "[(3, 6), (5, 6)]"
      ]
     },
     "execution_count": 6,
     "metadata": {},
     "output_type": "execute_result"
    }
   ],
   "source": [
    "#dfg has a public data field shape, which depicts the shape of the datasets in rows and cols\n",
    "dfg.shape"
   ]
  },
  {
   "cell_type": "code",
   "execution_count": 7,
   "id": "silver-battery",
   "metadata": {},
   "outputs": [
    {
     "data": {
      "text/plain": [
       "[Index(['Region', 'Temp(F)', 'Rainfall(mm)', 'Humidity(%)', 'Apples(ton)',\n",
       "        'Oranges(ton)'],\n",
       "       dtype='object'),\n",
       " Index(['Region', 'Temp(F)', 'Rainfall(mm)', 'Humidity(%)', 'Apples(ton)',\n",
       "        'Oranges(ton)'],\n",
       "       dtype='object')]"
      ]
     },
     "execution_count": 7,
     "metadata": {},
     "output_type": "execute_result"
    }
   ],
   "source": [
    "# the col_label field has the fetures names of each col.\n",
    "dfg.col_label"
   ]
  },
  {
   "cell_type": "code",
   "execution_count": 8,
   "id": "affiliated-pantyhose",
   "metadata": {},
   "outputs": [
    {
     "data": {
      "text/plain": [
       "['3A9D3F4C71BF49F7A1005E9C49BAD2C48AB34B04BC2249B2B128FBE6E6DD8520',\n",
       " 'FB72A3BD3D404BAFAB2322642E07DADA8AB34B04BC2249B2B128FBE6E6DD8520']"
      ]
     },
     "execution_count": 8,
     "metadata": {},
     "output_type": "execute_result"
    }
   ],
   "source": [
    "dfg.df"
   ]
  },
  {
   "cell_type": "code",
   "execution_count": 9,
   "id": "about-cologne",
   "metadata": {},
   "outputs": [
    {
     "data": {
      "text/plain": [
       "[Region          object\n",
       " Temp(F)          int64\n",
       " Rainfall(mm)     int64\n",
       " Humidity(%)      int64\n",
       " Apples(ton)      int64\n",
       " Oranges(ton)     int64\n",
       " dtype: object,\n",
       " Region          object\n",
       " Temp(F)          int64\n",
       " Rainfall(mm)     int64\n",
       " Humidity(%)      int64\n",
       " Apples(ton)      int64\n",
       " Oranges(ton)     int64\n",
       " dtype: object]"
      ]
     },
     "execution_count": 9,
     "metadata": {},
     "output_type": "execute_result"
    }
   ],
   "source": [
    "#the dtypes function gives the data types of each column\n",
    "dfg.dtypes()"
   ]
  },
  {
   "cell_type": "code",
   "execution_count": 10,
   "id": "sound-binding",
   "metadata": {},
   "outputs": [],
   "source": [
    "#The private_intersect compute the duplicate items between two data sets, \n",
    "#the droprow function drops the duplicated terms\n",
    "duplicate = dfg.private_intersect(vms[0], vms[1], dfg.df[0], dfg.df[1], 'Region')\n",
    "dfg.df[1] = dfg.droprow(vms[1], duplicate[1], dfg.df[1])"
   ]
  },
  {
   "cell_type": "code",
   "execution_count": 11,
   "id": "union-original",
   "metadata": {},
   "outputs": [],
   "source": [
    "#We add a new feature 'Temp(C)' temperature in celsius by doing transformation from the 'Temp(F)'\n",
    "newdf = dfg.apply_and_append(['Temp(F)']*len(vms), ['Temp(C)']*len(vms), dfg.df)"
   ]
  },
  {
   "cell_type": "code",
   "execution_count": 12,
   "id": "fitting-hampshire",
   "metadata": {},
   "outputs": [
    {
     "data": {
      "text/plain": [
       "-0.47835011346874645"
      ]
     },
     "execution_count": 12,
     "metadata": {},
     "output_type": "execute_result"
    }
   ],
   "source": [
    "#We can calculate the pearson correlation between the new feature and the target \n",
    "#to evaluate its usefulness\n",
    "dfg.pearson_corr('Temp(C)', 'Apples(ton)', newdf)"
   ]
  },
  {
   "cell_type": "code",
   "execution_count": 13,
   "id": "differential-christianity",
   "metadata": {},
   "outputs": [],
   "source": [
    "#We can do a normal transformation on the new feature we generated\n",
    "dfg.norm_transform('Temp(C)', newdf)"
   ]
  },
  {
   "cell_type": "code",
   "execution_count": 14,
   "id": "proper-transcription",
   "metadata": {},
   "outputs": [],
   "source": [
    "#Defining the features and targets cols\n",
    "#The get_col/to_numpy are done remotely\n",
    "data = {}\n",
    "X = dfg.get_col([['Temp(F)', 'Rainfall(mm)', 'Humidity(%)']]*len(vms), dfg.df)\n",
    "y = dfg.get_col([['Apples(ton)', 'Oranges(ton)']]*len(vms), dfg.df)\n",
    "data['X_train'] = dfg.to_numpy(X)\n",
    "data['y_train'] = dfg.to_numpy(y)\n",
    "#data['X_train'], data['X_test'], data['y_train'], data['y_test'] = dfg.train_test_split(X, y, 0.2, 42)"
   ]
  },
  {
   "cell_type": "code",
   "execution_count": 15,
   "id": "musical-pocket",
   "metadata": {},
   "outputs": [],
   "source": [
    "#construct the model\n",
    "model_one = Fdlr(vms, vmagg, data, workplace)"
   ]
  },
  {
   "cell_type": "code",
   "execution_count": 16,
   "id": "patent-failure",
   "metadata": {},
   "outputs": [
    {
     "name": "stdout",
     "output_type": "stream",
     "text": [
      "processing round: 1\n",
      "processing round: 10\n",
      "processing round: 19\n",
      "processing round: 28\n",
      "processing round: 37\n",
      "processing round: 46\n",
      "processing round: 55\n",
      "processing round: 64\n",
      "processing round: 73\n",
      "processing round: 82\n",
      "processing round: 91\n",
      "processing round: 100\n"
     ]
    }
   ],
   "source": [
    "#sigle round training\n",
    "model_one.initmodel(3,2,5e-5)\n",
    "#explain what fit is doing\n",
    "model_one.fit(100)"
   ]
  },
  {
   "cell_type": "code",
   "execution_count": 17,
   "id": "hired-arrival",
   "metadata": {},
   "outputs": [
    {
     "data": {
      "text/plain": [
       "1.4131690979003906"
      ]
     },
     "execution_count": 17,
     "metadata": {},
     "output_type": "execute_result"
    }
   ],
   "source": [
    "#Compute the mean absolute error\n",
    "model_one.mae(data['X_train'], data['y_train'])"
   ]
  },
  {
   "cell_type": "code",
   "execution_count": 14,
   "id": "negative-population",
   "metadata": {},
   "outputs": [],
   "source": [
    "#The block below does hyperparameter optimization by using Optuna package\n",
    "model_op = Fdlr(vms, vmagg, data, workplace)"
   ]
  },
  {
   "cell_type": "code",
   "execution_count": 15,
   "id": "identical-bacon",
   "metadata": {},
   "outputs": [],
   "source": [
    "def objective(trail, model):\n",
    "    n_lr = trail.suggest_float('n_lr', 1e-5, 1e-4)\n",
    "    model.initmodel(3,2,n_lr)\n",
    "    model.fit(100)\n",
    "    return model.score()"
   ]
  },
  {
   "cell_type": "code",
   "execution_count": 16,
   "id": "stuck-protest",
   "metadata": {},
   "outputs": [
    {
     "name": "stderr",
     "output_type": "stream",
     "text": [
      "\u001b[32m[I 2021-04-16 12:34:34,860]\u001b[0m A new study created in memory with name: no-name-36983a54-92da-4a90-b8ea-ea70d6838532\u001b[0m\n"
     ]
    },
    {
     "name": "stdout",
     "output_type": "stream",
     "text": [
      "processing round: 1\n",
      "processing round: 10\n",
      "processing round: 19\n",
      "processing round: 28\n",
      "processing round: 37\n",
      "processing round: 46\n",
      "processing round: 55\n",
      "processing round: 64\n",
      "processing round: 73\n",
      "processing round: 82\n",
      "processing round: 91\n",
      "processing round: 100\n"
     ]
    },
    {
     "name": "stderr",
     "output_type": "stream",
     "text": [
      "\u001b[32m[I 2021-04-16 12:40:44,032]\u001b[0m Trial 0 finished with value: 2.5347335815429686 and parameters: {'n_lr': 7.77735837165351e-05}. Best is trial 0 with value: 2.5347335815429686.\u001b[0m\n"
     ]
    },
    {
     "name": "stdout",
     "output_type": "stream",
     "text": [
      "processing round: 1\n",
      "processing round: 10\n",
      "processing round: 19\n",
      "processing round: 28\n",
      "processing round: 37\n",
      "processing round: 46\n",
      "processing round: 55\n",
      "processing round: 64\n",
      "processing round: 73\n",
      "processing round: 82\n",
      "processing round: 91\n",
      "processing round: 100\n"
     ]
    },
    {
     "name": "stderr",
     "output_type": "stream",
     "text": [
      "\u001b[32m[I 2021-04-16 12:46:22,573]\u001b[0m Trial 1 finished with value: 2.8942440032958983 and parameters: {'n_lr': 6.03870188968855e-05}. Best is trial 0 with value: 2.5347335815429686.\u001b[0m\n"
     ]
    },
    {
     "name": "stdout",
     "output_type": "stream",
     "text": [
      "processing round: 1\n",
      "processing round: 10\n",
      "processing round: 19\n",
      "processing round: 28\n",
      "processing round: 37\n",
      "processing round: 46\n",
      "processing round: 55\n",
      "processing round: 64\n",
      "processing round: 73\n",
      "processing round: 82\n",
      "processing round: 91\n",
      "processing round: 100\n"
     ]
    },
    {
     "name": "stderr",
     "output_type": "stream",
     "text": [
      "\u001b[32m[I 2021-04-16 12:52:05,408]\u001b[0m Trial 2 finished with value: 4.319192504882812 and parameters: {'n_lr': 3.09930875201408e-05}. Best is trial 0 with value: 2.5347335815429686.\u001b[0m\n"
     ]
    }
   ],
   "source": [
    "study = optuna.create_study(direction=\"minimize\")\n",
    "study.optimize(lambda trial: objective(trial, model_op), n_trials=3)"
   ]
  },
  {
   "cell_type": "code",
   "execution_count": null,
   "id": "recognized-place",
   "metadata": {},
   "outputs": [],
   "source": [
    "Thanks"
   ]
  }
 ],
 "metadata": {
  "kernelspec": {
   "display_name": "Python 3",
   "language": "python",
   "name": "python3"
  },
  "language_info": {
   "codemirror_mode": {
    "name": "ipython",
    "version": 3
   },
   "file_extension": ".py",
   "mimetype": "text/x-python",
   "name": "python",
   "nbconvert_exporter": "python",
   "pygments_lexer": "ipython3",
   "version": "3.8.5"
  }
 },
 "nbformat": 4,
 "nbformat_minor": 5
}
