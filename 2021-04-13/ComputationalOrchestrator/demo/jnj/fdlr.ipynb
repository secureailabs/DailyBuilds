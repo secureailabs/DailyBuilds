{
 "cells": [
  {
   "cell_type": "code",
   "execution_count": 1,
   "id": "conventional-andorra",
   "metadata": {},
   "outputs": [],
   "source": [
    "from sail.data import DataFrameGroup\n",
    "from sail.algo import Fdlr\n",
    "from sail.core import spawnvms\n",
    "import optuna"
   ]
  },
  {
   "cell_type": "code",
   "execution_count": 2,
   "id": "fixed-africa",
   "metadata": {},
   "outputs": [],
   "source": [
    "# show two data servers.\n",
    "vms = spawnvms(3)\n",
    "vmagg = vms[-1]\n",
    "vms = vms[:-1]"
   ]
  },
  {
   "cell_type": "code",
   "execution_count": 3,
   "id": "large-discount",
   "metadata": {},
   "outputs": [],
   "source": [
    "workplace = \"/home/jjj/playground/tmp\""
   ]
  },
  {
   "cell_type": "code",
   "execution_count": 4,
   "id": "vital-diary",
   "metadata": {},
   "outputs": [],
   "source": [
    "#DataFrameGroup is the collection of all dataset distributed among the VMs.\n",
    "dfg = DataFrameGroup(vms, workplace)\n",
    "dfg.import_data([0,0])"
   ]
  },
  {
   "cell_type": "code",
   "execution_count": 5,
   "id": "hindu-owner",
   "metadata": {},
   "outputs": [
    {
     "data": {
      "text/plain": [
       "[(3, 6), (2, 6)]"
      ]
     },
     "execution_count": 5,
     "metadata": {},
     "output_type": "execute_result"
    }
   ],
   "source": [
    "#dfg has a public data field shape, which depicts the shape of the datasets in rows and cols\n",
    "dfg.shape"
   ]
  },
  {
   "cell_type": "code",
   "execution_count": 6,
   "id": "metropolitan-lobby",
   "metadata": {},
   "outputs": [
    {
     "data": {
      "text/plain": [
       "[Index(['Region', 'Temp(F)', 'Rainfall(mm)', 'Humidity(%)', 'Apples(ton)',\n",
       "        'Oranges(ton)'],\n",
       "       dtype='object'),\n",
       " Index(['Region', 'Temp(F)', 'Rainfall(mm)', 'Humidity(%)', 'Apples(ton)',\n",
       "        'Oranges(ton)'],\n",
       "       dtype='object')]"
      ]
     },
     "execution_count": 6,
     "metadata": {},
     "output_type": "execute_result"
    }
   ],
   "source": [
    "# the col_label field has the fetures names of each col.\n",
    "dfg.col_label"
   ]
  },
  {
   "cell_type": "code",
   "execution_count": 7,
   "id": "challenging-watch",
   "metadata": {},
   "outputs": [
    {
     "data": {
      "text/html": [
       "<div>\n",
       "<style scoped>\n",
       "    .dataframe tbody tr th:only-of-type {\n",
       "        vertical-align: middle;\n",
       "    }\n",
       "\n",
       "    .dataframe tbody tr th {\n",
       "        vertical-align: top;\n",
       "    }\n",
       "\n",
       "    .dataframe thead th {\n",
       "        text-align: right;\n",
       "    }\n",
       "</style>\n",
       "<table border=\"1\" class=\"dataframe\">\n",
       "  <thead>\n",
       "    <tr style=\"text-align: right;\">\n",
       "      <th></th>\n",
       "      <th>Region</th>\n",
       "      <th>Temp(F)</th>\n",
       "      <th>Rainfall(mm)</th>\n",
       "      <th>Humidity(%)</th>\n",
       "      <th>Apples(ton)</th>\n",
       "      <th>Oranges(ton)</th>\n",
       "    </tr>\n",
       "  </thead>\n",
       "  <tbody>\n",
       "    <tr>\n",
       "      <th>0</th>\n",
       "      <td>Kanto</td>\n",
       "      <td>73</td>\n",
       "      <td>67</td>\n",
       "      <td>43</td>\n",
       "      <td>56</td>\n",
       "      <td>70</td>\n",
       "    </tr>\n",
       "    <tr>\n",
       "      <th>1</th>\n",
       "      <td>Johto</td>\n",
       "      <td>91</td>\n",
       "      <td>88</td>\n",
       "      <td>64</td>\n",
       "      <td>81</td>\n",
       "      <td>101</td>\n",
       "    </tr>\n",
       "    <tr>\n",
       "      <th>2</th>\n",
       "      <td>Hoenn</td>\n",
       "      <td>87</td>\n",
       "      <td>124</td>\n",
       "      <td>58</td>\n",
       "      <td>119</td>\n",
       "      <td>133</td>\n",
       "    </tr>\n",
       "  </tbody>\n",
       "</table>\n",
       "</div>"
      ],
      "text/plain": [
       "  Region  Temp(F)  Rainfall(mm)  Humidity(%)  Apples(ton)  Oranges(ton)\n",
       "0  Kanto       73            67           43           56            70\n",
       "1  Johto       91            88           64           81           101\n",
       "2  Hoenn       87           124           58          119           133"
      ]
     },
     "execution_count": 7,
     "metadata": {},
     "output_type": "execute_result"
    }
   ],
   "source": [
    "#make this part actual synthetic data\n",
    "dfg.sample(vms[0], dfg.df[0])"
   ]
  },
  {
   "cell_type": "code",
   "execution_count": 8,
   "id": "amended-brief",
   "metadata": {},
   "outputs": [],
   "source": [
    "#feature engineering"
   ]
  },
  {
   "cell_type": "code",
   "execution_count": 9,
   "id": "french-horizontal",
   "metadata": {},
   "outputs": [],
   "source": [
    "#mu = dfg.mean('price')"
   ]
  },
  {
   "cell_type": "code",
   "execution_count": 10,
   "id": "typical-europe",
   "metadata": {},
   "outputs": [],
   "source": [
    "#mu"
   ]
  },
  {
   "cell_type": "code",
   "execution_count": 11,
   "id": "proud-emission",
   "metadata": {},
   "outputs": [],
   "source": [
    "#sigma = dfg.standard_deviation('price', mu)"
   ]
  },
  {
   "cell_type": "code",
   "execution_count": 12,
   "id": "measured-industry",
   "metadata": {},
   "outputs": [],
   "source": [
    "#sigma"
   ]
  },
  {
   "cell_type": "code",
   "execution_count": 13,
   "id": "partial-three",
   "metadata": {},
   "outputs": [],
   "source": [
    "#sk = dfg.skew('price', mu, sigma)"
   ]
  },
  {
   "cell_type": "code",
   "execution_count": 14,
   "id": "clinical-decision",
   "metadata": {},
   "outputs": [],
   "source": [
    "#sk"
   ]
  },
  {
   "cell_type": "code",
   "execution_count": 15,
   "id": "framed-analyst",
   "metadata": {},
   "outputs": [],
   "source": [
    "#dfg.log_transform(['price'], ['log_price'])"
   ]
  },
  {
   "cell_type": "code",
   "execution_count": 16,
   "id": "exotic-township",
   "metadata": {},
   "outputs": [],
   "source": [
    "#Defining the features and targets cols\n",
    "#The get_col/to_numpy are done remotely\n",
    "data = {}\n",
    "X = dfg.get_col([['Temp(F)', 'Rainfall(mm)', 'Humidity(%)']]*len(vms), dfg.df)\n",
    "y = dfg.get_col([['Apples(ton)', 'Oranges(ton)']]*len(vms), dfg.df)\n",
    "data['X_train'] = dfg.to_numpy(X)\n",
    "data['y_train'] = dfg.to_numpy(y)\n",
    "#data['X_train'], data['X_test'], data['y_train'], data['y_test'] = dfg.train_test_split(X, y, 0.2, 42)"
   ]
  },
  {
   "cell_type": "code",
   "execution_count": 17,
   "id": "prompt-rachel",
   "metadata": {},
   "outputs": [],
   "source": [
    "#construct the model\n",
    "model = Fdlr(vms, vmagg, data, workplace)"
   ]
  },
  {
   "cell_type": "code",
   "execution_count": 18,
   "id": "defensive-israeli",
   "metadata": {},
   "outputs": [],
   "source": [
    "def objective(trail, model):\n",
    "    n_lr = trail.suggest_float('n_lr', 1e-5, 1e-4, step = 3e-4)\n",
    "    model.initmodel(3,2,n_lr)\n",
    "    model.fit(100)\n",
    "    return model.score()"
   ]
  },
  {
   "cell_type": "code",
   "execution_count": null,
   "id": "acute-distance",
   "metadata": {},
   "outputs": [
    {
     "name": "stderr",
     "output_type": "stream",
     "text": [
      "\u001b[32m[I 2021-04-14 22:35:31,570]\u001b[0m A new study created in memory with name: no-name-1d59695a-06fc-4066-8005-c09e37350614\u001b[0m\n",
      "/usr/local/lib/python3.8/dist-packages/optuna/distributions.py:547: UserWarning: The distribution is specified by [1e-05, 0.0001] and q=0.0003, but the range is not divisible by `q`. It will be replaced by [1e-05, 1e-05].\n",
      "  warnings.warn(\n"
     ]
    },
    {
     "name": "stdout",
     "output_type": "stream",
     "text": [
      "processing round: 1\n",
      "processing round: 10\n",
      "processing round: 19\n",
      "processing round: 28\n",
      "processing round: 37\n",
      "processing round: 46\n",
      "processing round: 55\n",
      "processing round: 64\n",
      "processing round: 73\n",
      "processing round: 82\n",
      "processing round: 91\n",
      "processing round: 100\n"
     ]
    },
    {
     "name": "stderr",
     "output_type": "stream",
     "text": [
      "\u001b[32m[I 2021-04-14 22:39:27,319]\u001b[0m Trial 0 finished with value: 12.906564394632975 and parameters: {'n_lr': 1e-05}. Best is trial 0 with value: 12.906564394632975.\u001b[0m\n"
     ]
    },
    {
     "name": "stdout",
     "output_type": "stream",
     "text": [
      "processing round: 1\n",
      "processing round: 10\n",
      "processing round: 19\n",
      "processing round: 28\n"
     ]
    }
   ],
   "source": [
    "study = optuna.create_study(direction=\"minimize\")\n",
    "study.optimize(lambda trial: objective(trial, model), n_trials=3)"
   ]
  },
  {
   "cell_type": "code",
   "execution_count": 16,
   "id": "metropolitan-hearing",
   "metadata": {},
   "outputs": [],
   "source": [
    "#sigle round training\n",
    "model.initmodel(3,2,n_lr)\n",
    "#explain what fit is doing\n",
    "model.fit(100)"
   ]
  },
  {
   "cell_type": "code",
   "execution_count": null,
   "id": "established-drive",
   "metadata": {},
   "outputs": [],
   "source": [
    "#Show prediction?"
   ]
  },
  {
   "cell_type": "code",
   "execution_count": 18,
   "id": "corresponding-receiver",
   "metadata": {},
   "outputs": [
    {
     "data": {
      "text/plain": [
       "[1379.724577293396, 1373.2931090164184]"
      ]
     },
     "execution_count": 18,
     "metadata": {},
     "output_type": "execute_result"
    }
   ],
   "source": [
    "model.mae()"
   ]
  }
 ],
 "metadata": {
  "kernelspec": {
   "display_name": "Python 3",
   "language": "python",
   "name": "python3"
  },
  "language_info": {
   "codemirror_mode": {
    "name": "ipython",
    "version": 3
   },
   "file_extension": ".py",
   "mimetype": "text/x-python",
   "name": "python",
   "nbconvert_exporter": "python",
   "pygments_lexer": "ipython3",
   "version": "3.8.5"
  }
 },
 "nbformat": 4,
 "nbformat_minor": 5
}
